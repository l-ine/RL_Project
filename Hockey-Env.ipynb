{
 "cells": [
  {
   "cell_type": "code",
   "execution_count": 1,
   "metadata": {
    "ExecuteTime": {
     "end_time": "2023-08-06T09:50:57.173010Z",
     "start_time": "2023-08-06T09:50:57.020693Z"
    }
   },
   "outputs": [],
   "source": [
    "import numpy as np\n",
    "import hockey.hockey_env as h_env\n",
    "import gymnasium as gym\n",
    "from importlib import reload\n",
    "import time"
   ]
  },
  {
   "cell_type": "code",
   "execution_count": 2,
   "metadata": {
    "ExecuteTime": {
     "end_time": "2023-08-06T09:50:57.395437Z",
     "start_time": "2023-08-06T09:50:57.391762Z"
    }
   },
   "outputs": [],
   "source": [
    "np.set_printoptions(suppress=True)"
   ]
  },
  {
   "cell_type": "code",
   "execution_count": 3,
   "metadata": {
    "ExecuteTime": {
     "end_time": "2023-08-06T09:50:57.740940Z",
     "start_time": "2023-08-06T09:50:57.722052Z"
    }
   },
   "outputs": [
    {
     "name": "stderr",
     "output_type": "stream",
     "text": [
      "C:\\Users\\pi030\\Documents\\Uni\\ReinforcementLearning\\finalProject\\RLenv.venv\\lib\\site-packages\\gymnasium\\envs\\registration.py:642: UserWarning: \u001b[33mWARN: Overriding environment Hockey-v0 already in registry.\u001b[0m\n",
      "  logger.warn(f\"Overriding environment {new_spec.id} already in registry.\")\n",
      "C:\\Users\\pi030\\Documents\\Uni\\ReinforcementLearning\\finalProject\\RLenv.venv\\lib\\site-packages\\gymnasium\\envs\\registration.py:642: UserWarning: \u001b[33mWARN: Overriding environment Hockey-One-v0 already in registry.\u001b[0m\n",
      "  logger.warn(f\"Overriding environment {new_spec.id} already in registry.\")\n"
     ]
    },
    {
     "data": {
      "text/plain": [
       "<module 'hockey.hockey_env' from 'C:\\\\Users\\\\pi030\\\\Documents\\\\Uni\\\\ReinforcementLearning\\\\finalProject\\\\RLenv.venv\\\\lib\\\\site-packages\\\\hockey\\\\hockey_env.py'>"
      ]
     },
     "execution_count": 3,
     "metadata": {},
     "output_type": "execute_result"
    }
   ],
   "source": [
    "reload(h_env)"
   ]
  },
  {
   "cell_type": "markdown",
   "metadata": {
    "ExecuteTime": {
     "end_time": "2018-12-20T21:03:35.086427Z",
     "start_time": "2018-12-20T21:03:35.082123Z"
    }
   },
   "source": [
    "# Normal Game Play"
   ]
  },
  {
   "cell_type": "code",
   "execution_count": 4,
   "metadata": {
    "ExecuteTime": {
     "end_time": "2023-08-06T09:39:16.240266Z",
     "start_time": "2023-08-06T09:39:16.231831Z"
    }
   },
   "outputs": [],
   "source": [
    "env = h_env.HockeyEnv()"
   ]
  },
  {
   "cell_type": "markdown",
   "metadata": {},
   "source": [
    "have a look at the initialization condition: alternating who starts and are random in puck position"
   ]
  },
  {
   "cell_type": "code",
   "execution_count": 5,
   "metadata": {
    "ExecuteTime": {
     "end_time": "2023-08-06T09:39:17.533706Z",
     "start_time": "2023-08-06T09:39:17.182784Z"
    }
   },
   "outputs": [],
   "source": [
    "obs, info = env.reset()\n",
    "obs_agent2 = env.obs_agent_two()\n",
    "_ = env.render()"
   ]
  },
  {
   "cell_type": "markdown",
   "metadata": {},
   "source": [
    "one episode with random agents"
   ]
  },
  {
   "cell_type": "code",
   "execution_count": 6,
   "metadata": {
    "ExecuteTime": {
     "end_time": "2023-08-06T09:39:27.019132Z",
     "start_time": "2023-08-06T09:39:21.973217Z"
    }
   },
   "outputs": [],
   "source": [
    "obs, info = env.reset()\n",
    "obs_agent2 = env.obs_agent_two()\n",
    "\n",
    "for _ in range(600):\n",
    "    env.render(mode=\"human\")\n",
    "    a1 = np.random.uniform(-1,1,4)\n",
    "    a2 = np.random.uniform(-1,1,4)    \n",
    "    obs, r, d, t, info = env.step(np.hstack([a1,a2]))    \n",
    "    obs_agent2 = env.obs_agent_two()\n",
    "    if d or t: break"
   ]
  },
  {
   "cell_type": "markdown",
   "metadata": {},
   "source": [
    "Without rendering, it runs much faster"
   ]
  },
  {
   "cell_type": "markdown",
   "metadata": {
    "ExecuteTime": {
     "end_time": "2019-01-11T07:57:48.631793Z",
     "start_time": "2019-01-11T07:57:48.627528Z"
    }
   },
   "source": [
    "\"info\" dict contains useful proxy rewards and winning information"
   ]
  },
  {
   "cell_type": "code",
   "execution_count": 7,
   "metadata": {
    "ExecuteTime": {
     "end_time": "2023-08-06T09:39:27.036179Z",
     "start_time": "2023-08-06T09:39:27.024383Z"
    }
   },
   "outputs": [
    {
     "data": {
      "text/plain": [
       "({'winner': 0,\n",
       "  'reward_closeness_to_puck': -0.12005649408108868,\n",
       "  'reward_touch_puck': 0.0,\n",
       "  'reward_puck_direction': 0.0},\n",
       " {'winner': 0,\n",
       "  'reward_closeness_to_puck': 0.0,\n",
       "  'reward_touch_puck': 0.0,\n",
       "  'reward_puck_direction': -0.0})"
      ]
     },
     "execution_count": 7,
     "metadata": {},
     "output_type": "execute_result"
    }
   ],
   "source": [
    "info, env.get_info_agent_two()"
   ]
  },
  {
   "cell_type": "markdown",
   "metadata": {
    "ExecuteTime": {
     "end_time": "2019-01-11T07:59:24.867441Z",
     "start_time": "2019-01-11T07:59:24.862324Z"
    }
   },
   "source": [
    "Winner == 0: draw\n",
    "\n",
    "Winner == 1: you (left player)\n",
    "\n",
    "Winner == -1: opponent wins (right player)"
   ]
  },
  {
   "cell_type": "code",
   "execution_count": 8,
   "metadata": {
    "ExecuteTime": {
     "end_time": "2023-08-06T09:39:46.656280Z",
     "start_time": "2023-08-06T09:39:46.631194Z"
    }
   },
   "outputs": [],
   "source": [
    "env.close()"
   ]
  },
  {
   "cell_type": "markdown",
   "metadata": {
    "ExecuteTime": {
     "end_time": "2018-12-20T20:37:41.013424Z",
     "start_time": "2018-12-20T20:37:41.009298Z"
    }
   },
   "source": [
    "# Train Shooting"
   ]
  },
  {
   "cell_type": "code",
   "execution_count": null,
   "metadata": {
    "ExecuteTime": {
     "end_time": "2023-08-06T09:39:53.528715Z",
     "start_time": "2023-08-06T09:39:53.524264Z"
    }
   },
   "outputs": [],
   "source": [
    "env = h_env.HockeyEnv(mode=h_env.HockeyEnv.TRAIN_SHOOTING)"
   ]
  },
  {
   "cell_type": "code",
   "execution_count": null,
   "metadata": {
    "ExecuteTime": {
     "end_time": "2023-08-06T09:40:11.934130Z",
     "start_time": "2023-08-06T09:40:10.738953Z"
    }
   },
   "outputs": [],
   "source": [
    "o, info = env.reset()\n",
    "_ = env.render()\n",
    "\n",
    "for _ in range(50):\n",
    "    env.render()\n",
    "    a1 = [1,0,0,1] # np.random.uniform(-1,1,4)\n",
    "    a2 = [0,0.,0,0] \n",
    "    obs, r, d, t , info = env.step(np.hstack([a1,a2]))\n",
    "    obs_agent2 = env.obs_agent_two()\n",
    "    if d or t: break"
   ]
  },
  {
   "cell_type": "code",
   "execution_count": null,
   "metadata": {
    "ExecuteTime": {
     "end_time": "2023-08-06T09:45:40.837294Z",
     "start_time": "2023-08-06T09:45:40.798692Z"
    }
   },
   "outputs": [],
   "source": [
    "env.close()"
   ]
  },
  {
   "cell_type": "markdown",
   "metadata": {
    "ExecuteTime": {
     "end_time": "2018-12-20T20:37:41.013424Z",
     "start_time": "2018-12-20T20:37:41.009298Z"
    }
   },
   "source": [
    "# Train DEFENDING"
   ]
  },
  {
   "cell_type": "code",
   "execution_count": null,
   "metadata": {
    "ExecuteTime": {
     "end_time": "2020-12-21T21:44:32.862079Z",
     "start_time": "2020-12-21T21:44:32.855492Z"
    }
   },
   "outputs": [],
   "source": [
    "env = h_env.HockeyEnv(mode=h_env.HockeyEnv.TRAIN_DEFENSE)"
   ]
  },
  {
   "cell_type": "code",
   "execution_count": null,
   "metadata": {
    "ExecuteTime": {
     "end_time": "2020-12-21T21:44:33.916251Z",
     "start_time": "2020-12-21T21:44:33.569490Z"
    }
   },
   "outputs": [],
   "source": [
    "o, info = env.reset()\n",
    "_ = env.render()\n",
    "\n",
    "for _ in range(60):\n",
    "    env.render()\n",
    "    a1 = [0.1,0,0,1] # np.random.uniform(-1,1,3)\n",
    "    a2 = [0,0.,0,0] \n",
    "    obs, r, d, t, info = env.step(np.hstack([a1,a2]))\n",
    "    print(r)\n",
    "    obs_agent2 = env.obs_agent_two()\n",
    "    if d or t: break"
   ]
  },
  {
   "cell_type": "code",
   "execution_count": null,
   "metadata": {
    "ExecuteTime": {
     "end_time": "2020-12-21T21:44:41.470595Z",
     "start_time": "2020-12-21T21:44:41.456491Z"
    }
   },
   "outputs": [],
   "source": [
    "env.close()"
   ]
  },
  {
   "cell_type": "markdown",
   "metadata": {
    "ExecuteTime": {
     "end_time": "2018-12-20T20:37:41.013424Z",
     "start_time": "2018-12-20T20:37:41.009298Z"
    }
   },
   "source": [
    "# Using discrete actions"
   ]
  },
  {
   "cell_type": "code",
   "execution_count": null,
   "metadata": {
    "ExecuteTime": {
     "end_time": "2020-12-21T21:44:52.876842Z",
     "start_time": "2020-12-21T21:44:52.872864Z"
    }
   },
   "outputs": [],
   "source": [
    "import random"
   ]
  },
  {
   "cell_type": "code",
   "execution_count": null,
   "metadata": {
    "ExecuteTime": {
     "end_time": "2020-12-21T21:44:54.433468Z",
     "start_time": "2020-12-21T21:44:54.428476Z"
    }
   },
   "outputs": [],
   "source": [
    "env = h_env.HockeyEnv(mode=h_env.HockeyEnv.TRAIN_SHOOTING)"
   ]
  },
  {
   "cell_type": "code",
   "execution_count": null,
   "metadata": {
    "ExecuteTime": {
     "end_time": "2020-12-21T21:45:21.317261Z",
     "start_time": "2020-12-21T21:45:19.980472Z"
    }
   },
   "outputs": [],
   "source": [
    "env.reset()\n",
    "for _ in range(251):\n",
    "    env.render()\n",
    "    a1_discrete = random.randint(0,7)\n",
    "    a1 = env.discrete_to_continous_action(a1_discrete)\n",
    "    a2 = [0,0.,0,0 ] \n",
    "    obs, r, d, t, info = env.step(np.hstack([a1,a2]))    \n",
    "    obs_agent2 = env.obs_agent_two()\n",
    "    if d or t: break"
   ]
  },
  {
   "cell_type": "code",
   "execution_count": null,
   "metadata": {
    "ExecuteTime": {
     "end_time": "2020-12-21T21:45:24.873214Z",
     "start_time": "2020-12-21T21:45:24.863047Z"
    }
   },
   "outputs": [],
   "source": [
    "env.close()"
   ]
  },
  {
   "cell_type": "markdown",
   "metadata": {
    "ExecuteTime": {
     "end_time": "2018-12-20T20:37:41.013424Z",
     "start_time": "2018-12-20T20:37:41.009298Z"
    }
   },
   "source": [
    "# Hand-crafted Opponent"
   ]
  },
  {
   "cell_type": "code",
   "execution_count": 9,
   "metadata": {
    "ExecuteTime": {
     "end_time": "2023-08-06T09:41:18.966441Z",
     "start_time": "2023-08-06T09:41:18.957901Z"
    }
   },
   "outputs": [],
   "source": [
    "env = h_env.HockeyEnv()"
   ]
  },
  {
   "cell_type": "code",
   "execution_count": 10,
   "metadata": {
    "ExecuteTime": {
     "end_time": "2023-08-06T09:42:34.996115Z",
     "start_time": "2023-08-06T09:42:34.972070Z"
    }
   },
   "outputs": [],
   "source": [
    "o, info = env.reset()\n",
    "_ = env.render()\n",
    "player1 = h_env.BasicOpponent(weak=False)\n",
    "player2 = h_env.BasicOpponent()"
   ]
  },
  {
   "cell_type": "code",
   "execution_count": null,
   "metadata": {
    "ExecuteTime": {
     "end_time": "2023-08-06T09:42:46.568098Z",
     "start_time": "2023-08-06T09:42:45.263259Z"
    }
   },
   "outputs": [],
   "source": [
    "obs_buffer = []\n",
    "reward_buffer=[]\n",
    "obs, info = env.reset()\n",
    "obs_agent2 = env.obs_agent_two()\n",
    "for _ in range(251):\n",
    "    env.render()\n",
    "    a1 = player1.act(obs)\n",
    "    a2 = player2.act(obs_agent2)\n",
    "    obs, r, d, t, info = env.step(np.hstack([a1,a2]))    \n",
    "    obs_buffer.append(obs)\n",
    "    reward_buffer.append(r)\n",
    "    obs_agent2 = env.obs_agent_two()\n",
    "    if d or t: break\n",
    "obs_buffer = np.asarray(obs_buffer)\n",
    "reward_buffer = np.asarray(reward_buffer)"
   ]
  },
  {
   "cell_type": "code",
   "execution_count": null,
   "metadata": {
    "ExecuteTime": {
     "end_time": "2023-08-06T09:42:51.468246Z",
     "start_time": "2023-08-06T09:42:51.459819Z"
    }
   },
   "outputs": [],
   "source": [
    "np.mean(obs_buffer,axis=0)"
   ]
  },
  {
   "cell_type": "code",
   "execution_count": null,
   "metadata": {
    "ExecuteTime": {
     "end_time": "2023-08-06T09:42:52.022533Z",
     "start_time": "2023-08-06T09:42:52.012350Z"
    }
   },
   "outputs": [],
   "source": [
    "np.std(obs_buffer,axis=0)"
   ]
  },
  {
   "cell_type": "markdown",
   "metadata": {},
   "source": [
    "If you want to use a fixed observation scaling, this might be a reasonable choice"
   ]
  },
  {
   "cell_type": "code",
   "execution_count": null,
   "metadata": {
    "ExecuteTime": {
     "end_time": "2020-12-21T21:45:59.816528Z",
     "start_time": "2020-12-21T21:45:59.811341Z"
    }
   },
   "outputs": [],
   "source": [
    "scaling = [ 1.0,  1.0 , 0.5, 4.0, 4.0, 4.0,  \n",
    "            1.0,  1.0,  0.5, 4.0, 4.0, 4.0,  \n",
    "            2.0, 2.0, 10.0, 10.0, 4,0 ,4,0]"
   ]
  },
  {
   "cell_type": "code",
   "execution_count": null,
   "metadata": {
    "ExecuteTime": {
     "end_time": "2020-12-21T21:46:00.487281Z",
     "start_time": "2020-12-21T21:46:00.483124Z"
    }
   },
   "outputs": [],
   "source": [
    "import pylab as plt"
   ]
  },
  {
   "cell_type": "code",
   "execution_count": null,
   "metadata": {
    "ExecuteTime": {
     "end_time": "2020-12-21T21:46:01.180182Z",
     "start_time": "2020-12-21T21:46:01.042905Z"
    }
   },
   "outputs": [],
   "source": [
    "plt.plot(obs_buffer[:,2])\n",
    "plt.plot(obs_buffer[:,8])"
   ]
  },
  {
   "cell_type": "code",
   "execution_count": null,
   "metadata": {
    "ExecuteTime": {
     "end_time": "2020-12-21T21:46:02.017740Z",
     "start_time": "2020-12-21T21:46:01.882805Z"
    }
   },
   "outputs": [],
   "source": [
    "plt.plot(obs_buffer[:,12])"
   ]
  },
  {
   "cell_type": "code",
   "execution_count": null,
   "metadata": {},
   "outputs": [],
   "source": [
    "plt.plot(reward_buffer[:])"
   ]
  },
  {
   "cell_type": "code",
   "execution_count": null,
   "metadata": {},
   "outputs": [],
   "source": [
    "np.sum(reward_buffer)"
   ]
  },
  {
   "cell_type": "code",
   "execution_count": null,
   "metadata": {
    "ExecuteTime": {
     "end_time": "2023-08-06T09:49:45.806206Z",
     "start_time": "2023-08-06T09:49:45.796608Z"
    }
   },
   "outputs": [],
   "source": [
    "info2 = env.get_info_agent_two()\n",
    "info, info2, env.get_reward(info), env.get_reward_agent_two(info2)"
   ]
  },
  {
   "cell_type": "code",
   "execution_count": 11,
   "metadata": {
    "ExecuteTime": {
     "end_time": "2020-12-21T21:46:02.934754Z",
     "start_time": "2020-12-21T21:46:02.922824Z"
    }
   },
   "outputs": [],
   "source": [
    "env.close()"
   ]
  },
  {
   "cell_type": "markdown",
   "metadata": {},
   "source": [
    "# Human Opponent"
   ]
  },
  {
   "cell_type": "code",
   "execution_count": 55,
   "metadata": {
    "ExecuteTime": {
     "end_time": "2020-12-21T21:46:11.226543Z",
     "start_time": "2020-12-21T21:46:11.220285Z"
    }
   },
   "outputs": [],
   "source": [
    "env = h_env.HockeyEnv()"
   ]
  },
  {
   "cell_type": "code",
   "execution_count": 56,
   "metadata": {
    "ExecuteTime": {
     "end_time": "2020-12-21T21:41:58.586380Z",
     "start_time": "2020-12-21T21:41:58.580405Z"
    }
   },
   "outputs": [
    {
     "name": "stdout",
     "output_type": "stream",
     "text": [
      "Human Controls:\n",
      " left:\t\t\tleft arrow key left\n",
      " right:\t\t\tarrow key right\n",
      " up:\t\t\tarrow key up\n",
      " down:\t\t\tarrow key down\n",
      " tilt clockwise:\tw\n",
      " tilt anti-clockwise:\ts\n",
      " shoot :\tspace\n"
     ]
    }
   ],
   "source": [
    "player1 = h_env.BasicOpponent()\n",
    "player2 = h_env.HumanOpponent(env=env, player=2)\n"
   ]
  },
  {
   "cell_type": "code",
   "execution_count": 57,
   "metadata": {
    "ExecuteTime": {
     "end_time": "2020-12-21T21:47:04.759309Z",
     "start_time": "2020-12-21T21:46:32.086840Z"
    }
   },
   "outputs": [
    {
     "name": "stdout",
     "output_type": "stream",
     "text": [
      "Player 1 won\n"
     ]
    }
   ],
   "source": [
    "obs, info = env.reset()\n",
    "\n",
    "env.render()\n",
    "time.sleep(1)\n",
    "obs_agent2 = env.obs_agent_two()\n",
    "for _ in range(100):\n",
    "    time.sleep(0.2)\n",
    "    env.render()\n",
    "    a1 = player1.act(obs) \n",
    "    a2 = player2.act(obs_agent2)\n",
    "    obs, r, d, _, info = env.step(np.hstack([a1,a2]))    \n",
    "    obs_agent2 = env.obs_agent_two()\n",
    "    if d: \n",
    "        winner = info['winner']\n",
    "        if winner == 0:\n",
    "            print(\"Draw\")\n",
    "        elif winner == 1:\n",
    "            print(\"Player 1 won\")\n",
    "        else:\n",
    "            print(\"Player 2 won\")\n",
    "        break"
   ]
  },
  {
   "cell_type": "code",
   "execution_count": 58,
   "metadata": {
    "ExecuteTime": {
     "end_time": "2020-12-21T21:47:08.152651Z",
     "start_time": "2020-12-21T21:47:08.139597Z"
    }
   },
   "outputs": [],
   "source": [
    "env.close()"
   ]
  },
  {
   "cell_type": "code",
   "execution_count": null,
   "metadata": {},
   "outputs": [],
   "source": []
  },
  {
   "cell_type": "markdown",
   "metadata": {
    "ExecuteTime": {
     "end_time": "2018-12-20T20:37:41.013424Z",
     "start_time": "2018-12-20T20:37:41.009298Z"
    }
   },
   "source": [
    "# Test trained agent"
   ]
  },
  {
   "cell_type": "code",
   "execution_count": 60,
   "metadata": {},
   "outputs": [],
   "source": [
    "import sys\n",
    "# add path to DDPG_Hockey \n",
    "sys.path.append(r\"C:\\Users\\pi030\\Documents\\Uni\\ReinforcementLearning\\finalProject\\code\\RL_Project\\DDPG_Hockey\")\n",
    "import DDPG"
   ]
  },
  {
   "cell_type": "code",
   "execution_count": 62,
   "metadata": {
    "ExecuteTime": {
     "end_time": "2023-08-06T09:55:05.915380Z",
     "start_time": "2023-08-06T09:55:05.907736Z"
    }
   },
   "outputs": [],
   "source": [
    "env = h_env.HockeyEnv()"
   ]
  },
  {
   "cell_type": "code",
   "execution_count": 63,
   "metadata": {
    "ExecuteTime": {
     "end_time": "2023-08-06T10:25:13.354179Z",
     "start_time": "2023-08-06T10:25:13.294925Z"
    }
   },
   "outputs": [
    {
     "name": "stderr",
     "output_type": "stream",
     "text": [
      "C:\\Users\\pi030\\Documents\\Uni\\ReinforcementLearning\\finalProject\\code\\RL_Project\\DDPG_Hockey\\DDPG.py:505: FutureWarning: You are using `torch.load` with `weights_only=False` (the current default value), which uses the default pickle module implicitly. It is possible to construct malicious pickle data which will execute arbitrary code during unpickling (See https://github.com/pytorch/pytorch/blob/main/SECURITY.md#untrusted-models for more details). In a future release, the default value for `weights_only` will be flipped to `True`. This limits the functions that could be executed during unpickling. Arbitrary objects will no longer be allowed to be loaded via this mode unless they are explicitly allowlisted by the user via `torch.serialization.add_safe_globals`. We recommend you start setting `weights_only=True` for any use case where you don't have full control of the loaded file. Please open an issue on GitHub for any issues related to this experimental feature.\n",
      "  self.agent.restore_state(torch.load(checkpoint))\n"
     ]
    }
   ],
   "source": [
    "o, info = env.reset()\n",
    "_ = env.render()\n",
    "player1 = h_env.BasicOpponent(weak=True)\n",
    "player2 = DDPG.DDPGOpponent()"
   ]
  },
  {
   "cell_type": "code",
   "execution_count": 69,
   "metadata": {
    "ExecuteTime": {
     "end_time": "2023-08-06T10:34:30.725239Z",
     "start_time": "2023-08-06T10:33:37.389331Z"
    }
   },
   "outputs": [
    {
     "name": "stdout",
     "output_type": "stream",
     "text": [
      "length of game: 250     winner: 0\n",
      "length of game: 30     winner: 1\n",
      "length of game: 250     winner: 0\n",
      "length of game: 178     winner: 1\n",
      "length of game: 250     winner: 0\n",
      "length of game: 36     winner: 1\n",
      "length of game: 250     winner: 0\n",
      "length of game: 250     winner: 0\n",
      "length of game: 250     winner: 0\n",
      "length of game: 41     winner: 1\n",
      "length of game: 250     winner: 0\n",
      "length of game: 204     winner: 1\n",
      "length of game: 250     winner: 0\n",
      "length of game: 78     winner: -1\n",
      "length of game: 250     winner: 0\n",
      "length of game: 88     winner: 1\n",
      "length of game: 250     winner: 0\n",
      "length of game: 42     winner: 1\n",
      "length of game: 250     winner: 0\n",
      "length of game: 250     winner: 0\n",
      "length of game: 250     winner: 0\n",
      "length of game: 52     winner: 1\n",
      "length of game: 250     winner: 0\n",
      "length of game: 51     winner: 1\n",
      "length of game: 250     winner: 0\n",
      "length of game: 247     winner: 1\n",
      "length of game: 250     winner: 0\n",
      "length of game: 250     winner: 0\n",
      "length of game: 250     winner: 0\n",
      "length of game: 250     winner: 0\n",
      "length of game: 250     winner: 0\n",
      "length of game: 40     winner: 1\n",
      "length of game: 250     winner: 0\n",
      "length of game: 30     winner: 1\n",
      "length of game: 250     winner: 0\n",
      "length of game: 250     winner: 0\n",
      "length of game: 250     winner: 0\n",
      "length of game: 30     winner: 1\n",
      "length of game: 250     winner: 0\n",
      "length of game: 38     winner: 1\n",
      "length of game: 250     winner: 0\n",
      "length of game: 52     winner: 1\n",
      "length of game: 250     winner: 0\n",
      "length of game: 50     winner: 1\n",
      "length of game: 250     winner: 0\n",
      "length of game: 250     winner: 0\n",
      "length of game: 250     winner: 0\n",
      "length of game: 95     winner: 1\n",
      "length of game: 100     winner: 1\n",
      "length of game: 52     winner: 1\n",
      "length of game: 250     winner: 0\n",
      "length of game: 250     winner: 0\n",
      "length of game: 85     winner: 1\n",
      "length of game: 250     winner: 0\n",
      "length of game: 250     winner: 0\n",
      "length of game: 44     winner: 1\n",
      "length of game: 250     winner: 0\n",
      "length of game: 250     winner: 0\n",
      "length of game: 250     winner: 0\n",
      "length of game: 123     winner: 1\n",
      "length of game: 250     winner: 0\n",
      "length of game: 79     winner: 1\n",
      "length of game: 89     winner: 1\n",
      "length of game: 250     winner: 0\n",
      "length of game: 250     winner: 0\n",
      "length of game: 48     winner: 1\n",
      "length of game: 250     winner: 0\n",
      "length of game: 90     winner: 1\n",
      "length of game: 250     winner: 0\n",
      "length of game: 40     winner: 1\n",
      "length of game: 250     winner: 0\n",
      "length of game: 59     winner: 1\n",
      "length of game: 250     winner: 0\n",
      "length of game: 31     winner: 1\n",
      "length of game: 250     winner: 0\n",
      "length of game: 45     winner: 1\n",
      "length of game: 250     winner: 0\n",
      "length of game: 250     winner: 0\n",
      "length of game: 250     winner: 0\n",
      "length of game: 49     winner: 1\n",
      "length of game: 250     winner: 0\n",
      "length of game: 30     winner: 1\n",
      "length of game: 250     winner: 0\n",
      "length of game: 109     winner: -1\n",
      "length of game: 250     winner: 0\n",
      "length of game: 35     winner: 1\n",
      "length of game: 250     winner: 0\n",
      "length of game: 30     winner: 1\n",
      "length of game: 250     winner: 0\n",
      "length of game: 46     winner: 1\n",
      "length of game: 250     winner: 0\n",
      "length of game: 58     winner: 1\n",
      "length of game: 250     winner: 0\n",
      "length of game: 109     winner: 1\n",
      "length of game: 250     winner: 0\n",
      "length of game: 65     winner: 1\n",
      "length of game: 250     winner: 0\n",
      "length of game: 43     winner: 1\n",
      "length of game: 250     winner: 0\n",
      "length of game: 250     winner: 0\n",
      "length of game: 250     winner: 0\n",
      "length of game: 250     winner: 0\n",
      "length of game: 250     winner: 0\n",
      "length of game: 96     winner: -1\n",
      "length of game: 250     winner: 0\n",
      "length of game: 44     winner: 1\n",
      "length of game: 250     winner: 0\n",
      "length of game: 31     winner: 1\n",
      "length of game: 250     winner: 0\n",
      "length of game: 73     winner: 1\n",
      "length of game: 250     winner: 0\n",
      "length of game: 31     winner: 1\n",
      "length of game: 250     winner: 0\n",
      "length of game: 250     winner: 0\n",
      "length of game: 250     winner: 0\n",
      "length of game: 31     winner: 1\n",
      "length of game: 250     winner: 0\n",
      "length of game: 37     winner: 1\n",
      "length of game: 250     winner: 0\n",
      "length of game: 41     winner: 1\n",
      "length of game: 250     winner: 0\n",
      "length of game: 46     winner: 1\n",
      "length of game: 250     winner: 0\n",
      "length of game: 107     winner: -1\n",
      "length of game: 250     winner: 0\n",
      "length of game: 30     winner: 1\n",
      "length of game: 250     winner: 0\n",
      "length of game: 56     winner: 1\n",
      "length of game: 250     winner: 0\n",
      "length of game: 50     winner: 1\n",
      "length of game: 250     winner: 0\n",
      "length of game: 31     winner: 1\n",
      "length of game: 250     winner: 0\n",
      "length of game: 248     winner: 1\n",
      "length of game: 250     winner: 0\n",
      "length of game: 31     winner: 1\n",
      "length of game: 250     winner: 0\n",
      "length of game: 250     winner: 0\n",
      "length of game: 31     winner: -1\n",
      "length of game: 21     winner: 1\n",
      "length of game: 250     winner: 0\n",
      "length of game: 209     winner: 1\n",
      "length of game: 250     winner: 0\n",
      "length of game: 31     winner: 1\n",
      "length of game: 250     winner: 0\n",
      "length of game: 71     winner: 1\n",
      "length of game: 250     winner: 0\n",
      "length of game: 55     winner: 1\n",
      "length of game: 250     winner: 0\n",
      "length of game: 30     winner: 1\n",
      "length of game: 250     winner: 0\n",
      "length of game: 31     winner: 1\n",
      "length of game: 250     winner: 0\n",
      "length of game: 57     winner: 1\n",
      "length of game: 250     winner: 0\n",
      "length of game: 250     winner: 0\n",
      "length of game: 250     winner: 0\n",
      "length of game: 250     winner: 0\n",
      "length of game: 250     winner: 0\n",
      "length of game: 30     winner: 1\n",
      "length of game: 250     winner: 0\n",
      "length of game: 51     winner: 1\n",
      "length of game: 72     winner: 1\n",
      "length of game: 250     winner: 0\n",
      "length of game: 250     winner: 0\n",
      "length of game: 69     winner: 1\n",
      "length of game: 250     winner: 0\n",
      "length of game: 250     winner: 0\n",
      "length of game: 250     winner: 0\n",
      "length of game: 49     winner: 1\n",
      "length of game: 250     winner: 0\n",
      "length of game: 73     winner: 1\n",
      "length of game: 32     winner: -1\n",
      "length of game: 250     winner: 0\n",
      "length of game: 250     winner: 0\n",
      "length of game: 30     winner: 1\n",
      "length of game: 250     winner: 0\n",
      "length of game: 31     winner: 1\n",
      "length of game: 72     winner: 1\n",
      "length of game: 38     winner: 1\n",
      "length of game: 250     winner: 0\n",
      "length of game: 45     winner: 1\n",
      "length of game: 250     winner: 0\n",
      "length of game: 50     winner: 1\n",
      "length of game: 67     winner: 1\n",
      "length of game: 31     winner: 1\n",
      "length of game: 250     winner: 0\n",
      "length of game: 54     winner: 1\n",
      "length of game: 250     winner: 0\n",
      "length of game: 13     winner: 1\n",
      "length of game: 250     winner: 0\n",
      "length of game: 39     winner: 1\n",
      "length of game: 244     winner: 1\n",
      "length of game: 30     winner: 1\n",
      "length of game: 250     winner: 0\n",
      "length of game: 31     winner: 1\n",
      "length of game: 250     winner: 0\n",
      "length of game: 250     winner: 0\n",
      "length of game: 250     winner: 0\n",
      "length of game: 31     winner: 1\n",
      "(33742, 18)\n"
     ]
    }
   ],
   "source": [
    "obs_buffer = []\n",
    "reward_buffer=[]\n",
    "obs2_buffer = []\n",
    "winner_buffer = []\n",
    "reward2_buffer=[]\n",
    "playtime_buffer=[]\n",
    "\n",
    "for game in range(200):\n",
    "    obs, info = env.reset()\n",
    "    obs_agent2 = env.obs_agent_two()\n",
    "    for _ in range(500):  # only 250 steps possible because of hockeyEnv\n",
    "        # env.render()\n",
    "        a1 = player1.act(obs)\n",
    "        a2 = player2.act(obs_agent2)\n",
    "#        a1 = np.random.uniform(-1,1,4)\n",
    "#        a2 = np.random.uniform(-1,1,4)    \n",
    "        obs, r, d, t, info = env.step(np.hstack([a1,a2]))\n",
    "        info2 = env.get_info_agent_two()\n",
    "        r2 = env.get_reward_agent_two(info2)\n",
    "        obs_buffer.append(obs)\n",
    "        obs_agent2 = env.obs_agent_two()\n",
    "        obs2_buffer.append(obs_agent2)\n",
    "        reward_buffer.append(r)\n",
    "        reward2_buffer.append(r2)\n",
    "        if d or t:\n",
    "            winner = info[\"winner\"]\n",
    "            winner_buffer.append(winner)\n",
    "            playtime_buffer.append(_)\n",
    "            print(f\"length of game: {_}     winner: {winner}\")\n",
    "            break\n",
    "obs_buffer = np.asarray(obs_buffer)\n",
    "reward_buffer = np.asarray(reward_buffer)\n",
    "obs2_buffer = np.asarray(obs2_buffer)\n",
    "reward2_buffer = np.asarray(reward2_buffer)\n",
    "playtime_buffer = np.asarray(playtime_buffer)\n",
    "print(obs_buffer.shape)"
   ]
  },
  {
   "cell_type": "code",
   "execution_count": 22,
   "metadata": {
    "ExecuteTime": {
     "end_time": "2023-08-06T10:34:30.732010Z",
     "start_time": "2023-08-06T10:34:30.728070Z"
    }
   },
   "outputs": [
    {
     "data": {
      "text/plain": [
       "(34166, 18)"
      ]
     },
     "execution_count": 22,
     "metadata": {},
     "output_type": "execute_result"
    }
   ],
   "source": [
    "obs_buffer.shape"
   ]
  },
  {
   "cell_type": "code",
   "execution_count": 12,
   "metadata": {
    "ExecuteTime": {
     "end_time": "2023-08-06T10:34:30.746663Z",
     "start_time": "2023-08-06T10:34:30.733445Z"
    }
   },
   "outputs": [
    {
     "data": {
      "text/plain": [
       "array([-1.49368929,  0.10950424, -0.00239489,  0.31495514,  0.03531004,\n",
       "       -0.00134137,  0.66269671, -2.63610441, -0.99400226, -0.76543737,\n",
       "       -0.87187936, -0.30231167,  0.90051244,  0.21288029,  0.75762797,\n",
       "        0.06016161,  0.37089612,  0.09840357])"
      ]
     },
     "execution_count": 12,
     "metadata": {},
     "output_type": "execute_result"
    }
   ],
   "source": [
    "np.mean(obs_buffer,axis=0)"
   ]
  },
  {
   "cell_type": "code",
   "execution_count": 17,
   "metadata": {
    "ExecuteTime": {
     "end_time": "2023-08-06T10:34:30.809201Z",
     "start_time": "2023-08-06T10:34:30.749382Z"
    }
   },
   "outputs": [
    {
     "data": {
      "text/plain": [
       "array([-0.00430787, -0.00838235,  0.00007652, -0.00395388,  0.00116347,\n",
       "        0.00352539,  0.00428939,  0.00831267, -0.00007653,  0.0039383 ,\n",
       "       -0.00116482, -0.00353786,  0.        ,  0.        ,  0.        ,\n",
       "        0.        , -0.00897015,  0.00889041])"
      ]
     },
     "execution_count": 17,
     "metadata": {},
     "output_type": "execute_result"
    }
   ],
   "source": [
    "(np.std(obs_buffer,axis=0) - np.std(obs2_buffer,axis=0)) / np.std(obs_buffer,axis=0)"
   ]
  },
  {
   "cell_type": "code",
   "execution_count": 23,
   "metadata": {
    "ExecuteTime": {
     "end_time": "2023-08-06T10:34:30.828943Z",
     "start_time": "2023-08-06T10:34:30.823232Z"
    }
   },
   "outputs": [
    {
     "data": {
      "text/plain": [
       "np.float64(0.39)"
      ]
     },
     "execution_count": 23,
     "metadata": {},
     "output_type": "execute_result"
    }
   ],
   "source": [
    "np.mean(winner_buffer,axis=0)"
   ]
  },
  {
   "cell_type": "code",
   "execution_count": 20,
   "metadata": {
    "ExecuteTime": {
     "end_time": "2023-08-06T10:34:30.834702Z",
     "start_time": "2023-08-06T10:34:30.830383Z"
    }
   },
   "outputs": [
    {
     "data": {
      "text/plain": [
       "np.float64(0.807462692636632)"
      ]
     },
     "execution_count": 20,
     "metadata": {},
     "output_type": "execute_result"
    }
   ],
   "source": [
    "np.std(winner_buffer,axis=0)"
   ]
  },
  {
   "cell_type": "code",
   "execution_count": 24,
   "metadata": {
    "ExecuteTime": {
     "end_time": "2023-08-06T10:34:44.699821Z",
     "start_time": "2023-08-06T10:34:44.692772Z"
    }
   },
   "outputs": [
    {
     "data": {
      "text/plain": [
       "(np.float64(1151.9914126589251), np.float64(-6191.900678166345))"
      ]
     },
     "execution_count": 24,
     "metadata": {},
     "output_type": "execute_result"
    }
   ],
   "source": [
    "np.sum(reward_buffer), np.sum(reward2_buffer)"
   ]
  },
  {
   "cell_type": "code",
   "execution_count": 26,
   "metadata": {},
   "outputs": [
    {
     "data": {
      "text/plain": [
       "np.float64(169.83)"
      ]
     },
     "execution_count": 26,
     "metadata": {},
     "output_type": "execute_result"
    }
   ],
   "source": [
    "np.mean(playtime_buffer)"
   ]
  },
  {
   "cell_type": "code",
   "execution_count": 72,
   "metadata": {},
   "outputs": [
    {
     "data": {
      "image/png": "[encoded data removed]",
      "text/plain": [
       "<Figure size 800x600 with 1 Axes>"
      ]
     },
     "metadata": {},
     "output_type": "display_data"
    },
    {
     "data": {
      "image/png": "[encoded data removed]",
      "text/plain": [
       "<Figure size 1200x500 with 2 Axes>"
      ]
     },
     "metadata": {},
     "output_type": "display_data"
    },
    {
     "data": {
      "image/png": "[encoded data removed]",
      "text/plain": [
       "<Figure size 800x400 with 1 Axes>"
      ]
     },
     "metadata": {},
     "output_type": "display_data"
    }
   ],
   "source": [
    "from mpl_toolkits.mplot3d import Axes3D\n",
    "from matplotlib import cm\n",
    "import pylab as plt\n",
    "import matplotlib.pyplot as plt\n",
    "\n",
    "# analyse data of one specific game\n",
    "game_number = 2\n",
    "winner = winner_buffer[game_number]\n",
    "\n",
    "# take observations of only that game\n",
    "start_idx = sum(playtime_buffer[:game_number - 1])  # Start index (sum of previous games' steps)\n",
    "end_idx = start_idx + playtime_buffer[game_number - 1]  # End index\n",
    "observations = obs_buffer[start_idx:end_idx]  # Slice obs_buffer\n",
    "\n",
    "# Extract player 1 positions\n",
    "x_player1 = observations[:, 0]  # X position of player 1\n",
    "y_player1 = observations[:, 1]  # Y position of player 1\n",
    "\n",
    "# Extract player 2 positions\n",
    "x_player2 = observations[:, 6]  # X position of player 2\n",
    "y_player2 = observations[:, 7]  # Y position of player 2\n",
    "\n",
    "# Extract puck data\n",
    "puck_x = observations[:, 12]\n",
    "puck_y = observations[:, 13]\n",
    "puck_time_p1 = observations[:, 16]\n",
    "puck_time_p2 = observations[:, 17]\n",
    "\n",
    "# Compute speed for both players\n",
    "dx1 = np.diff(x_player1)\n",
    "dy1 = np.diff(y_player1)\n",
    "speed_player1 = np.sqrt(dx1**2 + dy1**2)\n",
    "\n",
    "dx2 = np.diff(x_player2)\n",
    "dy2 = np.diff(y_player2)\n",
    "speed_player2 = np.sqrt(dx2**2 + dy2**2)\n",
    "\n",
    "# Compute speed puck\n",
    "dx3 = np.diff(puck_x)\n",
    "dy3 = np.diff(puck_y)\n",
    "speed_puck = np.sqrt(dx3**2 + dy3**2)\n",
    "\n",
    "# Create time axis\n",
    "time_steps = np.arange(len(x_player1))  # Time steps for plotting\n",
    "\n",
    "plt.close()\n",
    "# ---- PLOT 1: Player movement trajectory ----\n",
    "plt.figure(figsize=(8, 6))\n",
    "plt.plot(x_player1, y_player1, label=\"Player 1\", color='blue', marker='o', markersize=2, linestyle='-')\n",
    "plt.plot(x_player2, y_player2, label=\"Player 2\", color='red', marker='o', markersize=2, linestyle='-')\n",
    "plt.plot(puck_x, puck_y, label=\"Puck\", color='green', marker='o', markersize=2, linestyle='-')\n",
    "plt.xlabel(\"X Position\")\n",
    "plt.ylabel(\"Y Position\")\n",
    "if winner == 0:\n",
    "    plt.title(\"Player/ Puck Movement Trajectory\\nno Winner (Draw)\")\n",
    "else:\n",
    "    plt.title(f\"Player/ Puck Movement Trajectory\\nWinner: Player {winner}\")\n",
    "plt.legend()\n",
    "plt.grid(True)\n",
    "plt.show()\n",
    "\n",
    "# ---- PLOT 2: X & Y Positions over time ----\n",
    "plt.figure(figsize=(12, 5))\n",
    "plt.subplot(2, 1, 1)\n",
    "plt.plot(time_steps, x_player1, label=\"Player 1 X\", color='blue')\n",
    "plt.plot(time_steps, x_player2, label=\"Player 2 X\", color='red', linestyle='dashed')\n",
    "plt.ylabel(\"X Position\")\n",
    "plt.title(\"Player Positions Over Time\")\n",
    "plt.legend()\n",
    "plt.grid(True)\n",
    "\n",
    "plt.subplot(2, 1, 2)\n",
    "plt.plot(time_steps, y_player1, label=\"Player 1 Y\", color='blue')\n",
    "plt.plot(time_steps, y_player2, label=\"Player 2 Y\", color='red', linestyle='dashed')\n",
    "plt.xlabel(\"Time Step\")\n",
    "plt.ylabel(\"Y Position\")\n",
    "plt.legend()\n",
    "plt.grid(True)\n",
    "plt.show()\n",
    "\n",
    "# ---- PLOT 3: Speed over time ----\n",
    "plt.figure(figsize=(8, 4))\n",
    "plt.plot(time_steps[:-1], speed_player1, label=\"Player 1 Speed\", color='blue')\n",
    "plt.plot(time_steps[:-1], speed_player2, label=\"Player 2 Speed\", color='red', linestyle='dashed')\n",
    "plt.xlabel(\"Time Step\")\n",
    "plt.ylabel(\"Speed\")\n",
    "plt.title(\"Speed Over Time\")\n",
    "plt.legend()\n",
    "plt.grid(True)\n",
    "plt.show()\n",
    "\n",
    "\n"
   ]
  },
  {
   "cell_type": "code",
   "execution_count": 73,
   "metadata": {
    "ExecuteTime": {
     "end_time": "2023-08-06T10:35:19.971723Z",
     "start_time": "2023-08-06T10:35:19.929115Z"
    }
   },
   "outputs": [],
   "source": [
    "env.close()"
   ]
  },
  {
   "cell_type": "code",
   "execution_count": null,
   "metadata": {},
   "outputs": [],
   "source": []
  }
 ],
 "metadata": {
  "kernelspec": {
   "display_name": "Gym-RL",
   "language": "python",
   "name": "gym-rl"
  },
  "language_info": {
   "codemirror_mode": {
    "name": "ipython",
    "version": 3
   },
   "file_extension": ".py",
   "mimetype": "text/x-python",
   "name": "python",
   "nbconvert_exporter": "python",
   "pygments_lexer": "ipython3",
   "version": "3.10.0"
  },
  "toc": {
   "base_numbering": 1,
   "nav_menu": {},
   "number_sections": true,
   "sideBar": true,
   "skip_h1_title": false,
   "title_cell": "Table of Contents",
   "title_sidebar": "Contents",
   "toc_cell": false,
   "toc_position": {},
   "toc_section_display": true,
   "toc_window_display": false
  }
 },
 "nbformat": 4,
 "nbformat_minor": 4
}
