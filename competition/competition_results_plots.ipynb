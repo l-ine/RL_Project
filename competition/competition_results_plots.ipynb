{
 "cells": [
  {
   "cell_type": "markdown",
   "metadata": {},
   "source": [
    "# Analysis of competition results"
   ]
  },
  {
   "cell_type": "code",
   "execution_count": 4,
   "metadata": {
    "ExecuteTime": {
     "end_time": "2023-06-19T21:24:03.206035Z",
     "start_time": "2023-06-19T21:24:02.792104Z"
    }
   },
   "outputs": [],
   "source": [
    "import gymnasium as gym\n",
    "from gymnasium import spaces\n",
    "import numpy as np\n",
    "import pickle\n",
    "from mpl_toolkits.mplot3d import Axes3D\n",
    "from matplotlib import cm\n",
    "import pylab as plt\n",
    "\n",
    "import DDPG\n",
    "import torch"
   ]
  },
  {
   "cell_type": "markdown",
   "metadata": {},
   "source": [
    "## 0.0 Load a pkl from the competition"
   ]
  },
  {
   "cell_type": "code",
   "execution_count": 34,
   "metadata": {},
   "outputs": [
    {
     "name": "stdout",
     "output_type": "stream",
     "text": [
      "dict_keys(['actions_round_0', 'observations_round_0', 'actions_round_1', 'observations_round_1', 'actions_round_2', 'observations_round_2', 'actions_round_3', 'observations_round_3', 'num_rounds', 'actions'])\n",
      "[array([4])]\n",
      "(1004, 2, 4)\n",
      "251\n",
      "252\n",
      "8\n",
      "18\n"
     ]
    }
   ],
   "source": [
    "# load and check some values of a pkl from one game in the competition\n",
    "\n",
    "with open('results_competition/f98b6cbf-bb38-45f8-81d1-c01ac3465613.pkl', 'rb') as f:\n",
    "    data = pickle.load(f)\n",
    "    \n",
    "print(data.keys())\n",
    "\n",
    "print(data[\"num_rounds\"])\n",
    "\n",
    "# we are playing a maximum of 4 rounds, each having 251 actions\n",
    "print(data[\"actions\"].shape)\n",
    "\n",
    "# each round has 251 actions and 252 observations\n",
    "print(len(data[\"actions_round_0\"]))\n",
    "print(len(data[\"observations_round_0\"]))\n",
    "\n",
    "# each action includes 8 datapoints (do nothing, move, shoot, ...)\n",
    "# each observation includes 18 datapoints (x pos player one, y pos player one, ...)\n",
    "print(len(data[\"actions_round_0\"][0]))\n",
    "print(len(data[\"observations_round_0\"][0]))\n",
    "\n",
    "\n",
    "# more evaluations follow"
   ]
  },
  {
   "cell_type": "markdown",
   "metadata": {},
   "source": [
    "## 0.1 Helper Functions"
   ]
  },
  {
   "cell_type": "code",
   "execution_count": 5,
   "metadata": {
    "ExecuteTime": {
     "end_time": "2023-06-19T21:24:03.211465Z",
     "start_time": "2023-06-19T21:24:03.208324Z"
    }
   },
   "outputs": [],
   "source": [
    "def running_mean(x, N):\n",
    "    cumsum = np.cumsum(np.insert(x, 0, 0)) \n",
    "    return (cumsum[N:] - cumsum[:-N]) / float(N)    "
   ]
  },
  {
   "cell_type": "code",
   "execution_count": 6,
   "metadata": {},
   "outputs": [],
   "source": [
    "def run(env, agent, n_episodes=100, noise=0):\n",
    "    rewards = []\n",
    "    observations = []\n",
    "    actions = []\n",
    "    for ep in range(1, n_episodes+1):\n",
    "        ep_reward = 0\n",
    "        state, _info = env.reset()\n",
    "        for t in range(2000):\n",
    "            action = agent.act(state, noise)\n",
    "            state, reward, done, _trunc, _info = env.step(action)\n",
    "            observations.append(state)\n",
    "            actions.append(action)\n",
    "            ep_reward += reward\n",
    "            if done or _trunc:\n",
    "                break\n",
    "        rewards.append(ep_reward)\n",
    "        ep_reward = 0\n",
    "    print(f'Mean reward: {np.mean(rewards)}')\n",
    "    observations = np.asarray(observations)\n",
    "    actions = np.asarray(actions)\n",
    "    return observations, actions, rewards"
   ]
  },
  {
   "cell_type": "markdown",
   "metadata": {},
   "source": [
    "## TODO 1. Analyse actions and observations"
   ]
  }
 ],
 "metadata": {
  "kernelspec": {
   "display_name": "Gym-RL",
   "language": "python",
   "name": "gym-rl"
  },
  "language_info": {
   "codemirror_mode": {
    "name": "ipython",
    "version": 3
   },
   "file_extension": ".py",
   "mimetype": "text/x-python",
   "name": "python",
   "nbconvert_exporter": "python",
   "pygments_lexer": "ipython3",
   "version": "3.13.0"
  },
  "toc": {
   "base_numbering": 1,
   "nav_menu": {},
   "number_sections": true,
   "sideBar": true,
   "skip_h1_title": false,
   "title_cell": "Table of Contents",
   "title_sidebar": "Contents",
   "toc_cell": false,
   "toc_position": {},
   "toc_section_display": true,
   "toc_window_display": false
  }
 },
 "nbformat": 4,
 "nbformat_minor": 4
}
